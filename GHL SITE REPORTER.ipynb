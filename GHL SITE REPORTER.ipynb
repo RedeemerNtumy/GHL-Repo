{
 "cells": [
  {
   "cell_type": "code",
   "execution_count": null,
   "metadata": {},
   "outputs": [],
   "source": [
    "import requests\n",
    "import time\n",
    "import winsound, sys  \n",
    "import playsound\n",
    "import datetime\n",
    "while(1): \n",
    "    try: \n",
    "        request = requests.get('https://ghanahostels.org')\n",
    "        if request.status_code == 200 or 301 or 302 or 307:\n",
    "            playsound.playsound('ghpn.mp3', True) \n",
    "    except: \n",
    "        winsound.PlaySound('death1.wav' , winsound.SND_FILENAME) \n",
    "        \n"
   ]
  }
 ],
 "metadata": {
  "kernelspec": {
   "display_name": "Python 3",
   "language": "python",
   "name": "python3"
  },
  "language_info": {
   "codemirror_mode": {
    "name": "ipython",
    "version": 3
   },
   "file_extension": ".py",
   "mimetype": "text/x-python",
   "name": "python",
   "nbconvert_exporter": "python",
   "pygments_lexer": "ipython3",
   "version": "3.7.6"
  }
 },
 "nbformat": 4,
 "nbformat_minor": 4
}
